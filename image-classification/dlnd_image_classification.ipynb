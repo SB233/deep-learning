{
 "cells": [
  {
   "cell_type": "markdown",
   "metadata": {
    "collapsed": true,
    "deletable": true,
    "editable": true
   },
   "source": [
    "# Image Classification\n",
    "In this project, you'll classify images from the [CIFAR-10 dataset](https://www.cs.toronto.edu/~kriz/cifar.html).  The dataset consists of airplanes, dogs, cats, and other objects. You'll preprocess the images, then train a convolutional neural network on all the samples. The images need to be normalized and the labels need to be one-hot encoded.  You'll get to apply what you learned and build a convolutional, max pooling, dropout, and fully connected layers.  At the end, you'll get to see your neural network's predictions on the sample images.\n",
    "## Get the Data\n",
    "Run the following cell to download the [CIFAR-10 dataset for python](https://www.cs.toronto.edu/~kriz/cifar-10-python.tar.gz)."
   ]
  },
  {
   "cell_type": "code",
   "execution_count": 2,
   "metadata": {
    "collapsed": false,
    "deletable": true,
    "editable": true
   },
   "outputs": [
    {
     "name": "stdout",
     "output_type": "stream",
     "text": [
      "All files found!\n"
     ]
    }
   ],
   "source": [
    "\"\"\"\n",
    "DON'T MODIFY ANYTHING IN THIS CELL THAT IS BELOW THIS LINE\n",
    "\"\"\"\n",
    "from urllib.request import urlretrieve\n",
    "from os.path import isfile, isdir\n",
    "from tqdm import tqdm\n",
    "import problem_unittests as tests\n",
    "import tarfile\n",
    "\n",
    "cifar10_dataset_folder_path = 'cifar-10-batches-py'\n",
    "\n",
    "class DLProgress(tqdm):\n",
    "    last_block = 0\n",
    "\n",
    "    def hook(self, block_num=1, block_size=1, total_size=None):\n",
    "        self.total = total_size\n",
    "        self.update((block_num - self.last_block) * block_size)\n",
    "        self.last_block = block_num\n",
    "\n",
    "if not isfile('cifar-10-python.tar.gz'):\n",
    "    with DLProgress(unit='B', unit_scale=True, miniters=1, desc='CIFAR-10 Dataset') as pbar:\n",
    "        urlretrieve(\n",
    "            'https://www.cs.toronto.edu/~kriz/cifar-10-python.tar.gz',\n",
    "            'cifar-10-python.tar.gz',\n",
    "            pbar.hook)\n",
    "\n",
    "if not isdir(cifar10_dataset_folder_path):\n",
    "    with tarfile.open('cifar-10-python.tar.gz') as tar:\n",
    "        tar.extractall()\n",
    "        tar.close()\n",
    "\n",
    "\n",
    "tests.test_folder_path(cifar10_dataset_folder_path)"
   ]
  },
  {
   "cell_type": "markdown",
   "metadata": {
    "deletable": true,
    "editable": true
   },
   "source": [
    "## Explore the Data\n",
    "The dataset is broken into batches to prevent your machine from running out of memory.  The CIFAR-10 dataset consists of 5 batches, named `data_batch_1`, `data_batch_2`, etc.. Each batch contains the labels and images that are one of the following:\n",
    "* airplane\n",
    "* automobile\n",
    "* bird\n",
    "* cat\n",
    "* deer\n",
    "* dog\n",
    "* frog\n",
    "* horse\n",
    "* ship\n",
    "* truck\n",
    "\n",
    "Understanding a dataset is part of making predictions on the data.  Play around with the code cell below by changing the `batch_id` and `sample_id`. The `batch_id` is the id for a batch (1-5). The `sample_id` is the id for a image and label pair in the batch.\n",
    "\n",
    "Ask yourself \"What are all possible labels?\", \"What is the range of values for the image data?\", \"Are the labels in order or random?\".  Answers to questions like these will help you preprocess the data and end up with better predictions."
   ]
  },
  {
   "cell_type": "code",
   "execution_count": 3,
   "metadata": {
    "collapsed": false,
    "deletable": true,
    "editable": true
   },
   "outputs": [
    {
     "name": "stdout",
     "output_type": "stream",
     "text": [
      "\n",
      "Stats of batch 1:\n",
      "Samples: 10000\n",
      "Label Counts: {0: 1005, 1: 974, 2: 1032, 3: 1016, 4: 999, 5: 937, 6: 1030, 7: 1001, 8: 1025, 9: 981}\n",
      "First 20 Labels: [6, 9, 9, 4, 1, 1, 2, 7, 8, 3, 4, 7, 7, 2, 9, 9, 9, 3, 2, 6]\n",
      "\n",
      "Example of Image 5:\n",
      "Image - Min Value: 0 Max Value: 252\n",
      "Image - Shape: (32, 32, 3)\n",
      "Label - Label Id: 1 Name: automobile\n"
     ]
    },
    {
     "data": {
      "image/png": "[encoded data removed]",
      "text/plain": [
       "<matplotlib.figure.Figure at 0x7f4c43a24748>"
      ]
     },
     "metadata": {
      "image/png": {
       "height": 250,
       "width": 253
      }
     },
     "output_type": "display_data"
    }
   ],
   "source": [
    "%matplotlib inline\n",
    "%config InlineBackend.figure_format = 'retina'\n",
    "\n",
    "import helper\n",
    "import numpy as np\n",
    "\n",
    "# Explore the dataset\n",
    "batch_id = 1\n",
    "sample_id = 5\n",
    "helper.display_stats(cifar10_dataset_folder_path, batch_id, sample_id)"
   ]
  },
  {
   "cell_type": "markdown",
   "metadata": {
    "deletable": true,
    "editable": true
   },
   "source": [
    "## Implement Preprocess Functions\n",
    "### Normalize\n",
    "In the cell below, implement the `normalize` function to take in image data, `x`, and return it as a normalized Numpy array. The values should be in the range of 0 to 1, inclusive.  The return object should be the same shape as `x`."
   ]
  },
  {
   "cell_type": "code",
   "execution_count": 4,
   "metadata": {
    "collapsed": false,
    "deletable": true,
    "editable": true
   },
   "outputs": [
    {
     "name": "stdout",
     "output_type": "stream",
     "text": [
      "Tests Passed\n"
     ]
    }
   ],
   "source": [
    "def normalize(x):\n",
    "    \"\"\"\n",
    "    Normalize a list of sample image data in the range of 0 to 1\n",
    "    : x: List of image data.  The image shape is (32, 32, 3)\n",
    "    : return: Numpy array of normalize data\n",
    "    \"\"\"\n",
    "    # TODO: Implement Function\n",
    "    # we can consider each x is an integer of [0, 255]\n",
    "    xmin = 0\n",
    "    xmax = 255\n",
    "    xnorm = (x - xmin) / (xmax - xmin)\n",
    "    return xnorm\n",
    "\n",
    "\n",
    "\n",
    "\"\"\"\n",
    "DON'T MODIFY ANYTHING IN THIS CELL THAT IS BELOW THIS LINE\n",
    "\"\"\"\n",
    "tests.test_normalize(normalize)"
   ]
  },
  {
   "cell_type": "markdown",
   "metadata": {
    "deletable": true,
    "editable": true
   },
   "source": [
    "### One-hot encode\n",
    "Just like the previous code cell, you'll be implementing a function for preprocessing.  This time, you'll implement the `one_hot_encode` function. The input, `x`, are a list of labels.  Implement the function to return the list of labels as One-Hot encoded Numpy array.  The possible values for labels are 0 to 9. The one-hot encoding function should return the same encoding for each value between each call to `one_hot_encode`.  Make sure to save the map of encodings outside the function.\n",
    "\n",
    "Hint: Don't reinvent the wheel."
   ]
  },
  {
   "cell_type": "code",
   "execution_count": 5,
   "metadata": {
    "collapsed": false,
    "deletable": true,
    "editable": true
   },
   "outputs": [
    {
     "name": "stdout",
     "output_type": "stream",
     "text": [
      "Tests Passed\n"
     ]
    }
   ],
   "source": [
    "def one_hot_encode(x):\n",
    "    \"\"\"\n",
    "    One hot encode a list of sample labels. Return a one-hot encoded vector for each label.\n",
    "    : x: List of sample Labels\n",
    "    : return: Numpy array of one-hot encoded labels\n",
    "    \"\"\"\n",
    "    # TODO: Implement Function\n",
    "    onehot = np.zeros((len(x),10))\n",
    "        \n",
    "    for idx in range(len(x)):\n",
    "        label = x[idx]\n",
    "        onehot[idx][label] = 1\n",
    "    return onehot\n",
    "\n",
    "\n",
    "\n",
    "\"\"\"\n",
    "DON'T MODIFY ANYTHING IN THIS CELL THAT IS BELOW THIS LINE\n",
    "\"\"\"\n",
    "tests.test_one_hot_encode(one_hot_encode)"
   ]
  },
  {
   "cell_type": "markdown",
   "metadata": {
    "deletable": true,
    "editable": true
   },
   "source": [
    "### Randomize Data\n",
    "As you saw from exploring the data above, the order of the samples are randomized.  It doesn't hurt to randomize it again, but you don't need to for this dataset."
   ]
  },
  {
   "cell_type": "markdown",
   "metadata": {
    "deletable": true,
    "editable": true
   },
   "source": [
    "## Preprocess all the data and save it\n",
    "Running the code cell below will preprocess all the CIFAR-10 data and save it to file. The code below also uses 10% of the training data for validation."
   ]
  },
  {
   "cell_type": "code",
   "execution_count": 6,
   "metadata": {
    "collapsed": false,
    "deletable": true,
    "editable": true
   },
   "outputs": [],
   "source": [
    "\"\"\"\n",
    "DON'T MODIFY ANYTHING IN THIS CELL\n",
    "\"\"\"\n",
    "# Preprocess Training, Validation, and Testing Data\n",
    "helper.preprocess_and_save_data(cifar10_dataset_folder_path, normalize, one_hot_encode)"
   ]
  },
  {
   "cell_type": "markdown",
   "metadata": {
    "deletable": true,
    "editable": true
   },
   "source": [
    "# Check Point\n",
    "This is your first checkpoint.  If you ever decide to come back to this notebook or have to restart the notebook, you can start from here.  The preprocessed data has been saved to disk."
   ]
  },
  {
   "cell_type": "code",
   "execution_count": 7,
   "metadata": {
    "collapsed": true,
    "deletable": true,
    "editable": true
   },
   "outputs": [],
   "source": [
    "\"\"\"\n",
    "DON'T MODIFY ANYTHING IN THIS CELL\n",
    "\"\"\"\n",
    "import pickle\n",
    "import problem_unittests as tests\n",
    "import helper\n",
    "\n",
    "# Load the Preprocessed Validation data\n",
    "valid_features, valid_labels = pickle.load(open('preprocess_validation.p', mode='rb'))"
   ]
  },
  {
   "cell_type": "markdown",
   "metadata": {
    "deletable": true,
    "editable": true
   },
   "source": [
    "## Build the network\n",
    "For the neural network, you'll build each layer into a function.  Most of the code you've seen has been outside of functions. To test your code more thoroughly, we require that you put each layer in a function.  This allows us to give you better feedback and test for simple mistakes using our unittests before you submit your project.\n",
    "\n",
    ">**Note:** If you're finding it hard to dedicate enough time for this course each week, we've provided a small shortcut to this part of the project. In the next couple of problems, you'll have the option to use classes from the [TensorFlow Layers](https://www.tensorflow.org/api_docs/python/tf/layers) or [TensorFlow Layers (contrib)](https://www.tensorflow.org/api_guides/python/contrib.layers) packages to build each layer, except the layers you build in the \"Convolutional and Max Pooling Layer\" section.  TF Layers is similar to Keras's and TFLearn's abstraction to layers, so it's easy to pickup.\n",
    "\n",
    ">However, if you would like to get the most out of this course, try to solve all the problems _without_ using anything from the TF Layers packages. You **can** still use classes from other packages that happen to have the same name as ones you find in TF Layers! For example, instead of using the TF Layers version of the `conv2d` class, [tf.layers.conv2d](https://www.tensorflow.org/api_docs/python/tf/layers/conv2d), you would want to use the TF Neural Network version of `conv2d`, [tf.nn.conv2d](https://www.tensorflow.org/api_docs/python/tf/nn/conv2d). \n",
    "\n",
    "Let's begin!\n",
    "\n",
    "### Input\n",
    "The neural network needs to read the image data, one-hot encoded labels, and dropout keep probability. Implement the following functions\n",
    "* Implement `neural_net_image_input`\n",
    " * Return a [TF Placeholder](https://www.tensorflow.org/api_docs/python/tf/placeholder)\n",
    " * Set the shape using `image_shape` with batch size set to `None`.\n",
    " * Name the TensorFlow placeholder \"x\" using the TensorFlow `name` parameter in the [TF Placeholder](https://www.tensorflow.org/api_docs/python/tf/placeholder).\n",
    "* Implement `neural_net_label_input`\n",
    " * Return a [TF Placeholder](https://www.tensorflow.org/api_docs/python/tf/placeholder)\n",
    " * Set the shape using `n_classes` with batch size set to `None`.\n",
    " * Name the TensorFlow placeholder \"y\" using the TensorFlow `name` parameter in the [TF Placeholder](https://www.tensorflow.org/api_docs/python/tf/placeholder).\n",
    "* Implement `neural_net_keep_prob_input`\n",
    " * Return a [TF Placeholder](https://www.tensorflow.org/api_docs/python/tf/placeholder) for dropout keep probability.\n",
    " * Name the TensorFlow placeholder \"keep_prob\" using the TensorFlow `name` parameter in the [TF Placeholder](https://www.tensorflow.org/api_docs/python/tf/placeholder).\n",
    "\n",
    "These names will be used at the end of the project to load your saved model.\n",
    "\n",
    "Note: `None` for shapes in TensorFlow allow for a dynamic size."
   ]
  },
  {
   "cell_type": "code",
   "execution_count": 8,
   "metadata": {
    "collapsed": false,
    "deletable": true,
    "editable": true
   },
   "outputs": [
    {
     "name": "stdout",
     "output_type": "stream",
     "text": [
      "Image Input Tests Passed.\n",
      "Label Input Tests Passed.\n",
      "Keep Prob Tests Passed.\n"
     ]
    }
   ],
   "source": [
    "import tensorflow as tf\n",
    "\n",
    "def neural_net_image_input(image_shape):\n",
    "    \"\"\"\n",
    "    Return a Tensor for a bach of image input\n",
    "    : image_shape: Shape of the images\n",
    "    : return: Tensor for image input.\n",
    "    \"\"\"\n",
    "    # TODO: Implement Function\n",
    "    myshape = [None] + list(image_shape)\n",
    "    input_tensor = tf.placeholder(tf.float32, shape=myshape, name='x')\n",
    "    return input_tensor\n",
    "\n",
    "\n",
    "def neural_net_label_input(n_classes):\n",
    "    \"\"\"\n",
    "    Return a Tensor for a batch of label input\n",
    "    : n_classes: Number of classes\n",
    "    : return: Tensor for label input.\n",
    "    \"\"\"\n",
    "    # TODO: Implement Function\n",
    "    myshape = [None, n_classes]\n",
    "    label_tensor = tf.placeholder(tf.float32, shape=myshape, name='y')\n",
    "    return label_tensor\n",
    "\n",
    "\n",
    "def neural_net_keep_prob_input():\n",
    "    \"\"\"\n",
    "    Return a Tensor for keep probability\n",
    "    : return: Tensor for keep probability.\n",
    "    \"\"\"\n",
    "    # TODO: Implement Function\n",
    "    return tf.placeholder(tf.float32, name = 'keep_prob')\n",
    "\n",
    "\n",
    "\"\"\"\n",
    "DON'T MODIFY ANYTHING IN THIS CELL THAT IS BELOW THIS LINE\n",
    "\"\"\"\n",
    "tf.reset_default_graph()\n",
    "tests.test_nn_image_inputs(neural_net_image_input)\n",
    "tests.test_nn_label_inputs(neural_net_label_input)\n",
    "tests.test_nn_keep_prob_inputs(neural_net_keep_prob_input)"
   ]
  },
  {
   "cell_type": "markdown",
   "metadata": {
    "deletable": true,
    "editable": true
   },
   "source": [
    "### Convolution and Max Pooling Layer\n",
    "Convolution layers have a lot of success with images. For this code cell, you should implement the function `conv2d_maxpool` to apply convolution then max pooling:\n",
    "* Create the weight and bias using `conv_ksize`, `conv_num_outputs` and the shape of `x_tensor`.\n",
    "* Apply a convolution to `x_tensor` using weight and `conv_strides`.\n",
    " * We recommend you use same padding, but you're welcome to use any padding.\n",
    "* Add bias\n",
    "* Add a nonlinear activation to the convolution.\n",
    "* Apply Max Pooling using `pool_ksize` and `pool_strides`.\n",
    " * We recommend you use same padding, but you're welcome to use any padding.\n",
    "\n",
    "**Note:** You **can't** use [TensorFlow Layers](https://www.tensorflow.org/api_docs/python/tf/layers) or [TensorFlow Layers (contrib)](https://www.tensorflow.org/api_guides/python/contrib.layers) for **this** layer, but you can still use TensorFlow's [Neural Network](https://www.tensorflow.org/api_docs/python/tf/nn) package. You may still use the shortcut option for all the **other** layers."
   ]
  },
  {
   "cell_type": "code",
   "execution_count": 9,
   "metadata": {
    "collapsed": false,
    "deletable": true,
    "editable": true
   },
   "outputs": [
    {
     "name": "stdout",
     "output_type": "stream",
     "text": [
      "Tests Passed\n"
     ]
    }
   ],
   "source": [
    "def conv2d_maxpool(x_tensor, conv_num_outputs, conv_ksize, conv_strides, pool_ksize, pool_strides):\n",
    "    \"\"\"\n",
    "    Apply convolution then max pooling to x_tensor\n",
    "    :param x_tensor: TensorFlow Tensor\n",
    "    :param conv_num_outputs: Number of outputs for the convolutional layer\n",
    "    :param conv_ksize: kernal size 2-D Tuple for the convolutional layer\n",
    "    :param conv_strides: Stride 2-D Tuple for convolution\n",
    "    :param pool_ksize: kernal size 2-D Tuple for pool\n",
    "    :param pool_strides: Stride 2-D Tuple for pool\n",
    "    : return: A tensor that represents convolution and max pooling of x_tensor\n",
    "    \"\"\"\n",
    "    # TODO: Implement Function \n",
    "    shape = x_tensor.get_shape().as_list()    # the shape of x_tensor\n",
    "    \n",
    "    filter_weights = tf.Variable(tf.truncated_normal([conv_ksize[0], conv_ksize[1], shape[3], conv_num_outputs], stddev=0.05))\n",
    "    filter_biases = tf.Variable(tf.zeros(conv_num_outputs))\n",
    "  \n",
    "    conv = tf.nn.conv2d(x_tensor, filter_weights, [1, conv_strides[0], conv_strides[1], 1], padding='SAME')\n",
    "    conv = tf.nn.bias_add(conv, filter_biases)\n",
    "    relu = tf.nn.relu(conv)  \n",
    "    \n",
    "    strides_pool = [1, pool_strides[0], pool_strides[1], 1]\n",
    "    k_pool = [1, pool_ksize[0], pool_ksize[1], 1]\n",
    "    \n",
    "    max_pool = tf.nn.max_pool(relu, ksize=k_pool, strides=strides_pool, padding='SAME')\n",
    "    \n",
    "   \n",
    "    return max_pool\n",
    "\n",
    "\n",
    "\"\"\"\n",
    "DON'T MODIFY ANYTHING IN THIS CELL THAT IS BELOW THIS LINE\n",
    "\"\"\"\n",
    "tests.test_con_pool(conv2d_maxpool)"
   ]
  },
  {
   "cell_type": "markdown",
   "metadata": {
    "deletable": true,
    "editable": true
   },
   "source": [
    "### Flatten Layer\n",
    "Implement the `flatten` function to change the dimension of `x_tensor` from a 4-D tensor to a 2-D tensor.  The output should be the shape (*Batch Size*, *Flattened Image Size*). Shortcut option: you can use classes from the [TensorFlow Layers](https://www.tensorflow.org/api_docs/python/tf/layers) or [TensorFlow Layers (contrib)](https://www.tensorflow.org/api_guides/python/contrib.layers) packages for this layer. For more of a challenge, only use other TensorFlow packages."
   ]
  },
  {
   "cell_type": "code",
   "execution_count": 10,
   "metadata": {
    "collapsed": false,
    "deletable": true,
    "editable": true
   },
   "outputs": [
    {
     "name": "stdout",
     "output_type": "stream",
     "text": [
      "Tests Passed\n"
     ]
    }
   ],
   "source": [
    "def flatten(x_tensor):\n",
    "    \"\"\"\n",
    "    Flatten x_tensor to (Batch Size, Flattened Image Size)\n",
    "    : x_tensor: A tensor of size (Batch Size, ...), where ... are the image dimensions.\n",
    "    : return: A tensor of size (Batch Size, Flattened Image Size).\n",
    "    \"\"\"\n",
    "    # TODO: Implement Function\n",
    "    \n",
    "    ##without using contrib\n",
    "    ##shape = x_tensor.get_shape().as_list()\n",
    "    ##shape_w = shape[1]\n",
    "    ##shape_h = shape[2]\n",
    "    ##shape_d = shape[3]\n",
    "\n",
    "    ##flatten = tf.reshape(x_tensor, [-1, shape_w*shape_h*shape_d])\n",
    "    \n",
    "    return tf.contrib.layers.flatten(x_tensor)\n",
    "\n",
    "\n",
    "\"\"\"\n",
    "DON'T MODIFY ANYTHING IN THIS CELL THAT IS BELOW THIS LINE\n",
    "\"\"\"\n",
    "tests.test_flatten(flatten)"
   ]
  },
  {
   "cell_type": "markdown",
   "metadata": {
    "deletable": true,
    "editable": true
   },
   "source": [
    "### Fully-Connected Layer\n",
    "Implement the `fully_conn` function to apply a fully connected layer to `x_tensor` with the shape (*Batch Size*, *num_outputs*). Shortcut option: you can use classes from the [TensorFlow Layers](https://www.tensorflow.org/api_docs/python/tf/layers) or [TensorFlow Layers (contrib)](https://www.tensorflow.org/api_guides/python/contrib.layers) packages for this layer. For more of a challenge, only use other TensorFlow packages."
   ]
  },
  {
   "cell_type": "code",
   "execution_count": 11,
   "metadata": {
    "collapsed": false,
    "deletable": true,
    "editable": true
   },
   "outputs": [
    {
     "name": "stdout",
     "output_type": "stream",
     "text": [
      "Tests Passed\n"
     ]
    }
   ],
   "source": [
    "def fully_conn(x_tensor, num_outputs):\n",
    "    \"\"\"\n",
    "    Apply a fully connected layer to x_tensor using weight and bias\n",
    "    : x_tensor: A 2-D tensor where the first dimension is batch size.\n",
    "    : num_outputs: The number of output that the new tensor should be.\n",
    "    : return: A 2-D tensor where the second dimension is num_outputs.\n",
    "    \"\"\"\n",
    "    # TODO: Implement Function\n",
    "    shape = x_tensor.get_shape().as_list() \n",
    "    weight = tf.Variable(tf.truncated_normal([shape[1], num_outputs], stddev=0.05))\n",
    "    bias = tf.Variable(tf.zeros([num_outputs]))\n",
    "    f_c = tf.add(tf.matmul(x_tensor, weight), bias)\n",
    "    relu = tf.nn.relu(f_c)\n",
    "    return relu\n",
    "\n",
    "\n",
    "\n",
    "\"\"\"\n",
    "DON'T MODIFY ANYTHING IN THIS CELL THAT IS BELOW THIS LINE\n",
    "\"\"\"\n",
    "tests.test_fully_conn(fully_conn)"
   ]
  },
  {
   "cell_type": "markdown",
   "metadata": {
    "deletable": true,
    "editable": true
   },
   "source": [
    "### Output Layer\n",
    "Implement the `output` function to apply a fully connected layer to `x_tensor` with the shape (*Batch Size*, *num_outputs*). Shortcut option: you can use classes from the [TensorFlow Layers](https://www.tensorflow.org/api_docs/python/tf/layers) or [TensorFlow Layers (contrib)](https://www.tensorflow.org/api_guides/python/contrib.layers) packages for this layer. For more of a challenge, only use other TensorFlow packages.\n",
    "\n",
    "**Note:** Activation, softmax, or cross entropy should **not** be applied to this."
   ]
  },
  {
   "cell_type": "code",
   "execution_count": 12,
   "metadata": {
    "collapsed": false,
    "deletable": true,
    "editable": true
   },
   "outputs": [
    {
     "name": "stdout",
     "output_type": "stream",
     "text": [
      "Tests Passed\n"
     ]
    }
   ],
   "source": [
    "def output(x_tensor, num_outputs):\n",
    "    \"\"\"\n",
    "    Apply a output layer to x_tensor using weight and bias\n",
    "    : x_tensor: A 2-D tensor where the first dimension is batch size.\n",
    "    : num_outputs: The number of output that the new tensor should be.\n",
    "    : return: A 2-D tensor where the second dimension is num_outputs.\n",
    "    \"\"\"\n",
    "    # TODO: Implement Function\n",
    "    \n",
    "    ##without using contrib\n",
    "    ##shape = x_tensor.get_shape().as_list()    \n",
    "    \n",
    "    ##bias = tf.Variable(tf.zeros(num_outputs))    \n",
    "    ##return tf.add(tf.matmul(x_tensor, weight), bias)\n",
    "    \n",
    "    return tf.contrib.layers.fully_connected(x_tensor, num_outputs, activation_fn=None)\n",
    "\n",
    "    return None\n",
    "\n",
    "\n",
    "\"\"\"\n",
    "DON'T MODIFY ANYTHING IN THIS CELL THAT IS BELOW THIS LINE\n",
    "\"\"\"\n",
    "tests.test_output(output)"
   ]
  },
  {
   "cell_type": "markdown",
   "metadata": {
    "deletable": true,
    "editable": true
   },
   "source": [
    "### Create Convolutional Model\n",
    "Implement the function `conv_net` to create a convolutional neural network model. The function takes in a batch of images, `x`, and outputs logits.  Use the layers you created above to create this model:\n",
    "\n",
    "* Apply 1, 2, or 3 Convolution and Max Pool layers\n",
    "* Apply a Flatten Layer\n",
    "* Apply 1, 2, or 3 Fully Connected Layers\n",
    "* Apply an Output Layer\n",
    "* Return the output\n",
    "* Apply [TensorFlow's Dropout](https://www.tensorflow.org/api_docs/python/tf/nn/dropout) to one or more layers in the model using `keep_prob`. "
   ]
  },
  {
   "cell_type": "code",
   "execution_count": 13,
   "metadata": {
    "collapsed": false,
    "deletable": true,
    "editable": true
   },
   "outputs": [
    {
     "name": "stdout",
     "output_type": "stream",
     "text": [
      "Neural Network Built!\n"
     ]
    }
   ],
   "source": [
    "def conv_net(x, keep_prob):\n",
    "    \"\"\"\n",
    "    Create a convolutional neural network model\n",
    "    : x: Placeholder tensor that holds image data.\n",
    "    : keep_prob: Placeholder tensor that hold dropout keep probability.\n",
    "    : return: Tensor that represents logits\n",
    "    \"\"\"\n",
    "    # TODO: Apply 1, 2, or 3 Convolution and Max Pool layers\n",
    "    #    Play around with different number of outputs, kernel size and stride\n",
    "    # Function Definition from Above:\n",
    "    #    conv2d_maxpool(x_tensor, conv_num_outputs, conv_ksize, conv_strides, pool_ksize, pool_strides)\n",
    "    \n",
    "    conv_num_outputs = (96, 64, 64)\n",
    "    conv_ksizes = ((3,3), (3,3), (3,3))\n",
    "    conv_strides = ((1,1), (1,1), (1,1))\n",
    "    pool_ksizes = ((2,2), (2,2), (2,2))\n",
    "    pool_strides = ((2,2), (2,2), (2,2))\n",
    "    \n",
    "    x = conv2d_maxpool(x, conv_num_outputs[0], conv_ksizes[0], conv_strides[0], pool_ksizes[0], pool_strides[0])\n",
    "    x = conv2d_maxpool(x, conv_num_outputs[1], conv_ksizes[1], conv_strides[1], pool_ksizes[1], pool_strides[1])\n",
    "    x = conv2d_maxpool(x, conv_num_outputs[2], conv_ksizes[2], conv_strides[2], pool_ksizes[2], pool_strides[2])\n",
    "    \n",
    "\n",
    "    # TODO: Apply a Flatten Layer\n",
    "    # Function Definition from Above:\n",
    "    #   flatten(x_tensor)\n",
    "    \n",
    "    flat = flatten(x)\n",
    "    \n",
    "\n",
    "    # TODO: Apply 1, 2, or 3 Fully Connected Layers\n",
    "    #    Play around with different number of outputs\n",
    "    # Function Definition from Above:\n",
    "    #   fully_conn(x_tensor, num_outputs)\n",
    "    \n",
    "    f_c = fully_conn(flat, 1024)\n",
    "    f_c = tf.nn.dropout(f_c, keep_prob)\n",
    "    \n",
    "    # TODO: Apply an Output Layer\n",
    "    #    Set this to the number of classes\n",
    "    # Function Definition from Above:\n",
    "    #   output(x_tensor, num_outputs)\n",
    "    \n",
    "    num_outputs = 10\n",
    "    logits = output(f_c, num_outputs)\n",
    "    \n",
    "    # TODO: return output\n",
    "    return logits\n",
    "\n",
    "\n",
    "\"\"\"\n",
    "DON'T MODIFY ANYTHING IN THIS CELL THAT IS BELOW THIS LINE\n",
    "\"\"\"\n",
    "\n",
    "##############################\n",
    "## Build the Neural Network ##\n",
    "##############################\n",
    "\n",
    "# Remove previous weights, bias, inputs, etc..\n",
    "tf.reset_default_graph()\n",
    "\n",
    "# Inputs\n",
    "x = neural_net_image_input((32, 32, 3))\n",
    "y = neural_net_label_input(10)\n",
    "keep_prob = neural_net_keep_prob_input()\n",
    "\n",
    "# Model\n",
    "logits = conv_net(x, keep_prob)\n",
    "\n",
    "# Name logits Tensor, so that is can be loaded from disk after training\n",
    "logits = tf.identity(logits, name='logits')\n",
    "\n",
    "# Loss and Optimizer\n",
    "cost = tf.reduce_mean(tf.nn.softmax_cross_entropy_with_logits(logits=logits, labels=y))\n",
    "optimizer = tf.train.AdamOptimizer().minimize(cost)\n",
    "\n",
    "# Accuracy\n",
    "correct_pred = tf.equal(tf.argmax(logits, 1), tf.argmax(y, 1))\n",
    "accuracy = tf.reduce_mean(tf.cast(correct_pred, tf.float32), name='accuracy')\n",
    "\n",
    "tests.test_conv_net(conv_net)"
   ]
  },
  {
   "cell_type": "markdown",
   "metadata": {
    "deletable": true,
    "editable": true
   },
   "source": [
    "## Train the Neural Network\n",
    "### Single Optimization\n",
    "Implement the function `train_neural_network` to do a single optimization.  The optimization should use `optimizer` to optimize in `session` with a `feed_dict` of the following:\n",
    "* `x` for image input\n",
    "* `y` for labels\n",
    "* `keep_prob` for keep probability for dropout\n",
    "\n",
    "This function will be called for each batch, so `tf.global_variables_initializer()` has already been called.\n",
    "\n",
    "Note: Nothing needs to be returned. This function is only optimizing the neural network."
   ]
  },
  {
   "cell_type": "code",
   "execution_count": 14,
   "metadata": {
    "collapsed": false,
    "deletable": true,
    "editable": true
   },
   "outputs": [
    {
     "name": "stdout",
     "output_type": "stream",
     "text": [
      "Tests Passed\n"
     ]
    }
   ],
   "source": [
    "def train_neural_network(session, optimizer, keep_probability, feature_batch, label_batch):\n",
    "    \"\"\"\n",
    "    Optimize the session on a batch of images and labels\n",
    "    : session: Current TensorFlow session\n",
    "    : optimizer: TensorFlow optimizer function\n",
    "    : keep_probability: keep probability\n",
    "    : feature_batch: Batch of Numpy image data\n",
    "    : label_batch: Batch of Numpy label data\n",
    "    \"\"\"\n",
    "    # TODO: Implement Function\n",
    "    session.run(optimizer, feed_dict={keep_prob:keep_probability, x:feature_batch, y:label_batch})\n",
    " \n",
    "\n",
    "\n",
    "\"\"\"\n",
    "DON'T MODIFY ANYTHING IN THIS CELL THAT IS BELOW THIS LINE\n",
    "\"\"\"\n",
    "tests.test_train_nn(train_neural_network)"
   ]
  },
  {
   "cell_type": "markdown",
   "metadata": {
    "deletable": true,
    "editable": true
   },
   "source": [
    "### Show Stats\n",
    "Implement the function `print_stats` to print loss and validation accuracy.  Use the global variables `valid_features` and `valid_labels` to calculate validation accuracy.  Use a keep probability of `1.0` to calculate the loss and validation accuracy."
   ]
  },
  {
   "cell_type": "code",
   "execution_count": 15,
   "metadata": {
    "collapsed": false,
    "deletable": true,
    "editable": true
   },
   "outputs": [],
   "source": [
    "def print_stats(session, feature_batch, label_batch, cost, accuracy):\n",
    "    \"\"\"\n",
    "    Print information about loss and validation accuracy\n",
    "    : session: Current TensorFlow session\n",
    "    : feature_batch: Batch of Numpy image data\n",
    "    : label_batch: Batch of Numpy label data\n",
    "    : cost: TensorFlow cost function\n",
    "    : accuracy: TensorFlow accuracy function\n",
    "    \"\"\"\n",
    "    # TODO: Implement Function\n",
    "    loss = session.run(cost, feed_dict={x:feature_batch, y:label_batch, keep_prob:1.0})\n",
    "    validation_accuracy = session.run(accuracy, feed_dict={x: valid_features, y: valid_labels, keep_prob:1.0})\n",
    "    print('Current loss is : %f.    Validation accuracy is : %.2f%%'%(loss,validation_accuracy*100))"
   ]
  },
  {
   "cell_type": "markdown",
   "metadata": {
    "deletable": true,
    "editable": true
   },
   "source": [
    "### Hyperparameters\n",
    "Tune the following parameters:\n",
    "* Set `epochs` to the number of iterations until the network stops learning or start overfitting\n",
    "* Set `batch_size` to the highest number that your machine has memory for.  Most people set them to common sizes of memory:\n",
    " * 64\n",
    " * 128\n",
    " * 256\n",
    " * ...\n",
    "* Set `keep_probability` to the probability of keeping a node using dropout"
   ]
  },
  {
   "cell_type": "code",
   "execution_count": 16,
   "metadata": {
    "collapsed": true,
    "deletable": true,
    "editable": true
   },
   "outputs": [],
   "source": [
    "# TODO: Tune Parameters\n",
    "epochs = 50\n",
    "batch_size = 128\n",
    "keep_probability = 0.5"
   ]
  },
  {
   "cell_type": "markdown",
   "metadata": {
    "deletable": true,
    "editable": true
   },
   "source": [
    "### Train on a Single CIFAR-10 Batch\n",
    "Instead of training the neural network on all the CIFAR-10 batches of data, let's use a single batch. This should save time while you iterate on the model to get a better accuracy.  Once the final validation accuracy is 50% or greater, run the model on all the data in the next section."
   ]
  },
  {
   "cell_type": "code",
   "execution_count": 17,
   "metadata": {
    "collapsed": false,
    "deletable": true,
    "editable": true
   },
   "outputs": [
    {
     "name": "stdout",
     "output_type": "stream",
     "text": [
      "Checking the Training on a Single Batch...\n",
      "Epoch  1, CIFAR-10 Batch 1:  Current loss is : 1.981265.    Validation accuracy is : 36.36%\n",
      "Epoch  2, CIFAR-10 Batch 1:  Current loss is : 1.704686.    Validation accuracy is : 45.38%\n",
      "Epoch  3, CIFAR-10 Batch 1:  Current loss is : 1.435096.    Validation accuracy is : 50.44%\n",
      "Epoch  4, CIFAR-10 Batch 1:  Current loss is : 1.182982.    Validation accuracy is : 53.94%\n",
      "Epoch  5, CIFAR-10 Batch 1:  Current loss is : 1.088112.    Validation accuracy is : 56.12%\n",
      "Epoch  6, CIFAR-10 Batch 1:  Current loss is : 0.872283.    Validation accuracy is : 58.02%\n",
      "Epoch  7, CIFAR-10 Batch 1:  Current loss is : 0.714324.    Validation accuracy is : 58.82%\n",
      "Epoch  8, CIFAR-10 Batch 1:  Current loss is : 0.591372.    Validation accuracy is : 58.18%\n",
      "Epoch  9, CIFAR-10 Batch 1:  Current loss is : 0.470907.    Validation accuracy is : 59.42%\n",
      "Epoch 10, CIFAR-10 Batch 1:  Current loss is : 0.339598.    Validation accuracy is : 59.62%\n",
      "Epoch 11, CIFAR-10 Batch 1:  Current loss is : 0.264579.    Validation accuracy is : 60.80%\n",
      "Epoch 12, CIFAR-10 Batch 1:  Current loss is : 0.297719.    Validation accuracy is : 59.78%\n",
      "Epoch 13, CIFAR-10 Batch 1:  Current loss is : 0.190467.    Validation accuracy is : 61.96%\n",
      "Epoch 14, CIFAR-10 Batch 1:  Current loss is : 0.134514.    Validation accuracy is : 62.94%\n",
      "Epoch 15, CIFAR-10 Batch 1:  Current loss is : 0.134162.    Validation accuracy is : 62.66%\n",
      "Epoch 16, CIFAR-10 Batch 1:  Current loss is : 0.087016.    Validation accuracy is : 62.54%\n",
      "Epoch 17, CIFAR-10 Batch 1:  Current loss is : 0.068515.    Validation accuracy is : 61.96%\n",
      "Epoch 18, CIFAR-10 Batch 1:  Current loss is : 0.043383.    Validation accuracy is : 62.32%\n",
      "Epoch 19, CIFAR-10 Batch 1:  Current loss is : 0.047968.    Validation accuracy is : 60.72%\n",
      "Epoch 20, CIFAR-10 Batch 1:  Current loss is : 0.077726.    Validation accuracy is : 59.02%\n",
      "Epoch 21, CIFAR-10 Batch 1:  Current loss is : 0.038757.    Validation accuracy is : 61.34%\n",
      "Epoch 22, CIFAR-10 Batch 1:  Current loss is : 0.023003.    Validation accuracy is : 60.74%\n",
      "Epoch 23, CIFAR-10 Batch 1:  Current loss is : 0.015479.    Validation accuracy is : 63.46%\n",
      "Epoch 24, CIFAR-10 Batch 1:  Current loss is : 0.021625.    Validation accuracy is : 63.20%\n",
      "Epoch 25, CIFAR-10 Batch 1:  Current loss is : 0.009258.    Validation accuracy is : 61.60%\n",
      "Epoch 26, CIFAR-10 Batch 1:  Current loss is : 0.012181.    Validation accuracy is : 61.64%\n",
      "Epoch 27, CIFAR-10 Batch 1:  Current loss is : 0.009313.    Validation accuracy is : 62.82%\n",
      "Epoch 28, CIFAR-10 Batch 1:  Current loss is : 0.007403.    Validation accuracy is : 61.62%\n",
      "Epoch 29, CIFAR-10 Batch 1:  Current loss is : 0.006806.    Validation accuracy is : 61.54%\n",
      "Epoch 30, CIFAR-10 Batch 1:  Current loss is : 0.004424.    Validation accuracy is : 62.42%\n",
      "Epoch 31, CIFAR-10 Batch 1:  Current loss is : 0.007399.    Validation accuracy is : 60.70%\n",
      "Epoch 32, CIFAR-10 Batch 1:  Current loss is : 0.002769.    Validation accuracy is : 61.34%\n",
      "Epoch 33, CIFAR-10 Batch 1:  Current loss is : 0.003910.    Validation accuracy is : 62.66%\n",
      "Epoch 34, CIFAR-10 Batch 1:  Current loss is : 0.001412.    Validation accuracy is : 63.26%\n",
      "Epoch 35, CIFAR-10 Batch 1:  Current loss is : 0.003559.    Validation accuracy is : 63.56%\n",
      "Epoch 36, CIFAR-10 Batch 1:  Current loss is : 0.002589.    Validation accuracy is : 62.50%\n",
      "Epoch 37, CIFAR-10 Batch 1:  Current loss is : 0.001370.    Validation accuracy is : 62.18%\n",
      "Epoch 38, CIFAR-10 Batch 1:  Current loss is : 0.000918.    Validation accuracy is : 62.84%\n",
      "Epoch 39, CIFAR-10 Batch 1:  Current loss is : 0.000434.    Validation accuracy is : 62.08%\n",
      "Epoch 40, CIFAR-10 Batch 1:  Current loss is : 0.000564.    Validation accuracy is : 63.68%\n",
      "Epoch 41, CIFAR-10 Batch 1:  Current loss is : 0.002537.    Validation accuracy is : 62.36%\n",
      "Epoch 42, CIFAR-10 Batch 1:  Current loss is : 0.000649.    Validation accuracy is : 63.08%\n",
      "Epoch 43, CIFAR-10 Batch 1:  Current loss is : 0.000397.    Validation accuracy is : 62.62%\n",
      "Epoch 44, CIFAR-10 Batch 1:  Current loss is : 0.000466.    Validation accuracy is : 63.62%\n",
      "Epoch 45, CIFAR-10 Batch 1:  Current loss is : 0.000305.    Validation accuracy is : 63.74%\n",
      "Epoch 46, CIFAR-10 Batch 1:  Current loss is : 0.000474.    Validation accuracy is : 62.76%\n",
      "Epoch 47, CIFAR-10 Batch 1:  Current loss is : 0.000622.    Validation accuracy is : 62.98%\n",
      "Epoch 48, CIFAR-10 Batch 1:  Current loss is : 0.000510.    Validation accuracy is : 63.12%\n",
      "Epoch 49, CIFAR-10 Batch 1:  Current loss is : 0.000475.    Validation accuracy is : 63.40%\n",
      "Epoch 50, CIFAR-10 Batch 1:  Current loss is : 0.002451.    Validation accuracy is : 62.20%\n"
     ]
    }
   ],
   "source": [
    "\"\"\"\n",
    "DON'T MODIFY ANYTHING IN THIS CELL\n",
    "\"\"\"\n",
    "print('Checking the Training on a Single Batch...')\n",
    "with tf.Session() as sess:\n",
    "    # Initializing the variables\n",
    "    sess.run(tf.global_variables_initializer())\n",
    "    \n",
    "    # Training cycle\n",
    "    for epoch in range(epochs):\n",
    "        batch_i = 1\n",
    "        for batch_features, batch_labels in helper.load_preprocess_training_batch(batch_i, batch_size):\n",
    "            train_neural_network(sess, optimizer, keep_probability, batch_features, batch_labels)\n",
    "        print('Epoch {:>2}, CIFAR-10 Batch {}:  '.format(epoch + 1, batch_i), end='')\n",
    "        print_stats(sess, batch_features, batch_labels, cost, accuracy)"
   ]
  },
  {
   "cell_type": "markdown",
   "metadata": {
    "deletable": true,
    "editable": true
   },
   "source": [
    "### Fully Train the Model\n",
    "Now that you got a good accuracy with a single CIFAR-10 batch, try it with all five batches."
   ]
  },
  {
   "cell_type": "code",
   "execution_count": 18,
   "metadata": {
    "collapsed": false,
    "deletable": true,
    "editable": true
   },
   "outputs": [
    {
     "name": "stdout",
     "output_type": "stream",
     "text": [
      "Training...\n",
      "Epoch  1, CIFAR-10 Batch 1:  Current loss is : 2.018023.    Validation accuracy is : 34.30%\n",
      "Epoch  1, CIFAR-10 Batch 2:  Current loss is : 1.592555.    Validation accuracy is : 37.08%\n",
      "Epoch  1, CIFAR-10 Batch 3:  Current loss is : 1.284172.    Validation accuracy is : 48.02%\n",
      "Epoch  1, CIFAR-10 Batch 4:  Current loss is : 1.275379.    Validation accuracy is : 53.68%\n",
      "Epoch  1, CIFAR-10 Batch 5:  Current loss is : 1.346574.    Validation accuracy is : 56.08%\n",
      "Epoch  2, CIFAR-10 Batch 1:  Current loss is : 1.304349.    Validation accuracy is : 55.86%\n",
      "Epoch  2, CIFAR-10 Batch 2:  Current loss is : 1.115514.    Validation accuracy is : 55.30%\n",
      "Epoch  2, CIFAR-10 Batch 3:  Current loss is : 0.918085.    Validation accuracy is : 58.82%\n",
      "Epoch  2, CIFAR-10 Batch 4:  Current loss is : 0.906953.    Validation accuracy is : 61.52%\n",
      "Epoch  2, CIFAR-10 Batch 5:  Current loss is : 1.015872.    Validation accuracy is : 63.36%\n",
      "Epoch  3, CIFAR-10 Batch 1:  Current loss is : 1.000645.    Validation accuracy is : 62.86%\n",
      "Epoch  3, CIFAR-10 Batch 2:  Current loss is : 0.843095.    Validation accuracy is : 63.40%\n",
      "Epoch  3, CIFAR-10 Batch 3:  Current loss is : 0.626896.    Validation accuracy is : 64.48%\n",
      "Epoch  3, CIFAR-10 Batch 4:  Current loss is : 0.682150.    Validation accuracy is : 65.08%\n",
      "Epoch  3, CIFAR-10 Batch 5:  Current loss is : 0.747277.    Validation accuracy is : 67.50%\n",
      "Epoch  4, CIFAR-10 Batch 1:  Current loss is : 0.778217.    Validation accuracy is : 67.90%\n",
      "Epoch  4, CIFAR-10 Batch 2:  Current loss is : 0.610532.    Validation accuracy is : 66.88%\n",
      "Epoch  4, CIFAR-10 Batch 3:  Current loss is : 0.453306.    Validation accuracy is : 68.50%\n",
      "Epoch  4, CIFAR-10 Batch 4:  Current loss is : 0.536263.    Validation accuracy is : 67.76%\n",
      "Epoch  4, CIFAR-10 Batch 5:  Current loss is : 0.543424.    Validation accuracy is : 68.44%\n",
      "Epoch  5, CIFAR-10 Batch 1:  Current loss is : 0.604198.    Validation accuracy is : 68.54%\n",
      "Epoch  5, CIFAR-10 Batch 2:  Current loss is : 0.461610.    Validation accuracy is : 70.06%\n",
      "Epoch  5, CIFAR-10 Batch 3:  Current loss is : 0.367785.    Validation accuracy is : 71.72%\n",
      "Epoch  5, CIFAR-10 Batch 4:  Current loss is : 0.459454.    Validation accuracy is : 71.12%\n",
      "Epoch  5, CIFAR-10 Batch 5:  Current loss is : 0.492293.    Validation accuracy is : 70.06%\n",
      "Epoch  6, CIFAR-10 Batch 1:  Current loss is : 0.516449.    Validation accuracy is : 69.18%\n",
      "Epoch  6, CIFAR-10 Batch 2:  Current loss is : 0.372647.    Validation accuracy is : 71.86%\n",
      "Epoch  6, CIFAR-10 Batch 3:  Current loss is : 0.278914.    Validation accuracy is : 70.44%\n",
      "Epoch  6, CIFAR-10 Batch 4:  Current loss is : 0.340464.    Validation accuracy is : 71.48%\n",
      "Epoch  6, CIFAR-10 Batch 5:  Current loss is : 0.321663.    Validation accuracy is : 73.04%\n",
      "Epoch  7, CIFAR-10 Batch 1:  Current loss is : 0.364153.    Validation accuracy is : 72.06%\n",
      "Epoch  7, CIFAR-10 Batch 2:  Current loss is : 0.304191.    Validation accuracy is : 72.44%\n",
      "Epoch  7, CIFAR-10 Batch 3:  Current loss is : 0.209639.    Validation accuracy is : 72.64%\n",
      "Epoch  7, CIFAR-10 Batch 4:  Current loss is : 0.265430.    Validation accuracy is : 72.32%\n",
      "Epoch  7, CIFAR-10 Batch 5:  Current loss is : 0.234746.    Validation accuracy is : 72.86%\n",
      "Epoch  8, CIFAR-10 Batch 1:  Current loss is : 0.238410.    Validation accuracy is : 71.66%\n",
      "Epoch  8, CIFAR-10 Batch 2:  Current loss is : 0.243484.    Validation accuracy is : 70.98%\n",
      "Epoch  8, CIFAR-10 Batch 3:  Current loss is : 0.191600.    Validation accuracy is : 73.76%\n",
      "Epoch  8, CIFAR-10 Batch 4:  Current loss is : 0.233047.    Validation accuracy is : 71.28%\n",
      "Epoch  8, CIFAR-10 Batch 5:  Current loss is : 0.174635.    Validation accuracy is : 73.12%\n",
      "Epoch  9, CIFAR-10 Batch 1:  Current loss is : 0.235353.    Validation accuracy is : 72.34%\n",
      "Epoch  9, CIFAR-10 Batch 2:  Current loss is : 0.174472.    Validation accuracy is : 72.56%\n",
      "Epoch  9, CIFAR-10 Batch 3:  Current loss is : 0.151620.    Validation accuracy is : 72.86%\n",
      "Epoch  9, CIFAR-10 Batch 4:  Current loss is : 0.205315.    Validation accuracy is : 72.58%\n",
      "Epoch  9, CIFAR-10 Batch 5:  Current loss is : 0.157748.    Validation accuracy is : 73.08%\n",
      "Epoch 10, CIFAR-10 Batch 1:  Current loss is : 0.183041.    Validation accuracy is : 72.88%\n",
      "Epoch 10, CIFAR-10 Batch 2:  Current loss is : 0.105247.    Validation accuracy is : 73.78%\n",
      "Epoch 10, CIFAR-10 Batch 3:  Current loss is : 0.121174.    Validation accuracy is : 73.10%\n",
      "Epoch 10, CIFAR-10 Batch 4:  Current loss is : 0.140658.    Validation accuracy is : 73.30%\n",
      "Epoch 10, CIFAR-10 Batch 5:  Current loss is : 0.132329.    Validation accuracy is : 73.00%\n",
      "Epoch 11, CIFAR-10 Batch 1:  Current loss is : 0.120666.    Validation accuracy is : 73.16%\n",
      "Epoch 11, CIFAR-10 Batch 2:  Current loss is : 0.154057.    Validation accuracy is : 71.78%\n",
      "Epoch 11, CIFAR-10 Batch 3:  Current loss is : 0.105636.    Validation accuracy is : 72.46%\n",
      "Epoch 11, CIFAR-10 Batch 4:  Current loss is : 0.084741.    Validation accuracy is : 72.80%\n",
      "Epoch 11, CIFAR-10 Batch 5:  Current loss is : 0.084605.    Validation accuracy is : 73.50%\n",
      "Epoch 12, CIFAR-10 Batch 1:  Current loss is : 0.107004.    Validation accuracy is : 74.16%\n",
      "Epoch 12, CIFAR-10 Batch 2:  Current loss is : 0.063144.    Validation accuracy is : 72.78%\n",
      "Epoch 12, CIFAR-10 Batch 3:  Current loss is : 0.080921.    Validation accuracy is : 72.68%\n",
      "Epoch 12, CIFAR-10 Batch 4:  Current loss is : 0.083893.    Validation accuracy is : 72.90%\n",
      "Epoch 12, CIFAR-10 Batch 5:  Current loss is : 0.072368.    Validation accuracy is : 73.74%\n",
      "Epoch 13, CIFAR-10 Batch 1:  Current loss is : 0.062248.    Validation accuracy is : 73.92%\n",
      "Epoch 13, CIFAR-10 Batch 2:  Current loss is : 0.047121.    Validation accuracy is : 72.26%\n",
      "Epoch 13, CIFAR-10 Batch 3:  Current loss is : 0.047270.    Validation accuracy is : 73.08%\n",
      "Epoch 13, CIFAR-10 Batch 4:  Current loss is : 0.096909.    Validation accuracy is : 73.26%\n",
      "Epoch 13, CIFAR-10 Batch 5:  Current loss is : 0.038786.    Validation accuracy is : 74.14%\n",
      "Epoch 14, CIFAR-10 Batch 1:  Current loss is : 0.057723.    Validation accuracy is : 74.64%\n",
      "Epoch 14, CIFAR-10 Batch 2:  Current loss is : 0.051859.    Validation accuracy is : 70.94%\n",
      "Epoch 14, CIFAR-10 Batch 3:  Current loss is : 0.047275.    Validation accuracy is : 73.62%\n",
      "Epoch 14, CIFAR-10 Batch 4:  Current loss is : 0.045356.    Validation accuracy is : 73.18%\n",
      "Epoch 14, CIFAR-10 Batch 5:  Current loss is : 0.027725.    Validation accuracy is : 73.58%\n",
      "Epoch 15, CIFAR-10 Batch 1:  Current loss is : 0.045601.    Validation accuracy is : 74.60%\n",
      "Epoch 15, CIFAR-10 Batch 2:  Current loss is : 0.025532.    Validation accuracy is : 73.86%\n",
      "Epoch 15, CIFAR-10 Batch 3:  Current loss is : 0.039025.    Validation accuracy is : 74.14%\n",
      "Epoch 15, CIFAR-10 Batch 4:  Current loss is : 0.058551.    Validation accuracy is : 72.22%\n",
      "Epoch 15, CIFAR-10 Batch 5:  Current loss is : 0.025326.    Validation accuracy is : 75.04%\n",
      "Epoch 16, CIFAR-10 Batch 1:  Current loss is : 0.035183.    Validation accuracy is : 74.92%\n",
      "Epoch 16, CIFAR-10 Batch 2:  Current loss is : 0.031889.    Validation accuracy is : 70.88%\n",
      "Epoch 16, CIFAR-10 Batch 3:  Current loss is : 0.022837.    Validation accuracy is : 75.42%\n",
      "Epoch 16, CIFAR-10 Batch 4:  Current loss is : 0.038326.    Validation accuracy is : 73.56%\n",
      "Epoch 16, CIFAR-10 Batch 5:  Current loss is : 0.013962.    Validation accuracy is : 74.92%\n",
      "Epoch 17, CIFAR-10 Batch 1:  Current loss is : 0.022032.    Validation accuracy is : 74.26%\n",
      "Epoch 17, CIFAR-10 Batch 2:  Current loss is : 0.021940.    Validation accuracy is : 73.02%\n",
      "Epoch 17, CIFAR-10 Batch 3:  Current loss is : 0.020440.    Validation accuracy is : 74.76%\n",
      "Epoch 17, CIFAR-10 Batch 4:  Current loss is : 0.020519.    Validation accuracy is : 72.64%\n",
      "Epoch 17, CIFAR-10 Batch 5:  Current loss is : 0.020289.    Validation accuracy is : 74.46%\n",
      "Epoch 18, CIFAR-10 Batch 1:  Current loss is : 0.027283.    Validation accuracy is : 74.54%\n",
      "Epoch 18, CIFAR-10 Batch 2:  Current loss is : 0.033738.    Validation accuracy is : 74.18%\n",
      "Epoch 18, CIFAR-10 Batch 3:  Current loss is : 0.019360.    Validation accuracy is : 73.24%\n",
      "Epoch 18, CIFAR-10 Batch 4:  Current loss is : 0.012000.    Validation accuracy is : 73.70%\n",
      "Epoch 18, CIFAR-10 Batch 5:  Current loss is : 0.013944.    Validation accuracy is : 74.84%\n",
      "Epoch 19, CIFAR-10 Batch 1:  Current loss is : 0.016199.    Validation accuracy is : 74.94%\n",
      "Epoch 19, CIFAR-10 Batch 2:  Current loss is : 0.030747.    Validation accuracy is : 73.04%\n",
      "Epoch 19, CIFAR-10 Batch 3:  Current loss is : 0.006927.    Validation accuracy is : 73.30%\n",
      "Epoch 19, CIFAR-10 Batch 4:  Current loss is : 0.016920.    Validation accuracy is : 73.24%\n",
      "Epoch 19, CIFAR-10 Batch 5:  Current loss is : 0.013382.    Validation accuracy is : 74.68%\n",
      "Epoch 20, CIFAR-10 Batch 1:  Current loss is : 0.016154.    Validation accuracy is : 74.40%\n",
      "Epoch 20, CIFAR-10 Batch 2:  Current loss is : 0.022893.    Validation accuracy is : 73.38%\n",
      "Epoch 20, CIFAR-10 Batch 3:  Current loss is : 0.005176.    Validation accuracy is : 75.28%\n",
      "Epoch 20, CIFAR-10 Batch 4:  Current loss is : 0.017999.    Validation accuracy is : 74.58%\n",
      "Epoch 20, CIFAR-10 Batch 5:  Current loss is : 0.009290.    Validation accuracy is : 74.20%\n",
      "Epoch 21, CIFAR-10 Batch 1:  Current loss is : 0.012764.    Validation accuracy is : 74.76%\n",
      "Epoch 21, CIFAR-10 Batch 2:  Current loss is : 0.006984.    Validation accuracy is : 74.64%\n",
      "Epoch 21, CIFAR-10 Batch 3:  Current loss is : 0.007558.    Validation accuracy is : 74.30%\n",
      "Epoch 21, CIFAR-10 Batch 4:  Current loss is : 0.009099.    Validation accuracy is : 73.66%\n",
      "Epoch 21, CIFAR-10 Batch 5:  Current loss is : 0.007020.    Validation accuracy is : 74.72%\n",
      "Epoch 22, CIFAR-10 Batch 1:  Current loss is : 0.015296.    Validation accuracy is : 74.20%\n",
      "Epoch 22, CIFAR-10 Batch 2:  Current loss is : 0.011378.    Validation accuracy is : 73.28%\n",
      "Epoch 22, CIFAR-10 Batch 3:  Current loss is : 0.007384.    Validation accuracy is : 75.10%\n",
      "Epoch 22, CIFAR-10 Batch 4:  Current loss is : 0.010316.    Validation accuracy is : 73.74%\n",
      "Epoch 22, CIFAR-10 Batch 5:  Current loss is : 0.002732.    Validation accuracy is : 74.88%\n",
      "Epoch 23, CIFAR-10 Batch 1:  Current loss is : 0.013383.    Validation accuracy is : 74.96%\n",
      "Epoch 23, CIFAR-10 Batch 2:  Current loss is : 0.005663.    Validation accuracy is : 75.18%\n",
      "Epoch 23, CIFAR-10 Batch 3:  Current loss is : 0.010094.    Validation accuracy is : 75.94%\n",
      "Epoch 23, CIFAR-10 Batch 4:  Current loss is : 0.003542.    Validation accuracy is : 74.34%\n",
      "Epoch 23, CIFAR-10 Batch 5:  Current loss is : 0.004987.    Validation accuracy is : 74.38%\n",
      "Epoch 24, CIFAR-10 Batch 1:  Current loss is : 0.006996.    Validation accuracy is : 74.38%\n",
      "Epoch 24, CIFAR-10 Batch 2:  Current loss is : 0.008312.    Validation accuracy is : 72.82%\n",
      "Epoch 24, CIFAR-10 Batch 3:  Current loss is : 0.003573.    Validation accuracy is : 75.64%\n",
      "Epoch 24, CIFAR-10 Batch 4:  Current loss is : 0.006769.    Validation accuracy is : 73.34%\n",
      "Epoch 24, CIFAR-10 Batch 5:  Current loss is : 0.021448.    Validation accuracy is : 74.48%\n",
      "Epoch 25, CIFAR-10 Batch 1:  Current loss is : 0.007894.    Validation accuracy is : 74.62%\n",
      "Epoch 25, CIFAR-10 Batch 2:  Current loss is : 0.005104.    Validation accuracy is : 74.58%\n",
      "Epoch 25, CIFAR-10 Batch 3:  Current loss is : 0.003673.    Validation accuracy is : 75.26%\n",
      "Epoch 25, CIFAR-10 Batch 4:  Current loss is : 0.005372.    Validation accuracy is : 74.62%\n",
      "Epoch 25, CIFAR-10 Batch 5:  Current loss is : 0.002662.    Validation accuracy is : 74.24%\n",
      "Epoch 26, CIFAR-10 Batch 1:  Current loss is : 0.003693.    Validation accuracy is : 74.96%\n",
      "Epoch 26, CIFAR-10 Batch 2:  Current loss is : 0.003321.    Validation accuracy is : 74.94%\n",
      "Epoch 26, CIFAR-10 Batch 3:  Current loss is : 0.004826.    Validation accuracy is : 75.28%\n",
      "Epoch 26, CIFAR-10 Batch 4:  Current loss is : 0.006314.    Validation accuracy is : 74.42%\n",
      "Epoch 26, CIFAR-10 Batch 5:  Current loss is : 0.002223.    Validation accuracy is : 74.90%\n",
      "Epoch 27, CIFAR-10 Batch 1:  Current loss is : 0.006708.    Validation accuracy is : 74.64%\n",
      "Epoch 27, CIFAR-10 Batch 2:  Current loss is : 0.003816.    Validation accuracy is : 73.58%\n",
      "Epoch 27, CIFAR-10 Batch 3:  Current loss is : 0.005366.    Validation accuracy is : 75.30%\n",
      "Epoch 27, CIFAR-10 Batch 4:  Current loss is : 0.004791.    Validation accuracy is : 74.80%\n",
      "Epoch 27, CIFAR-10 Batch 5:  Current loss is : 0.005886.    Validation accuracy is : 73.86%\n",
      "Epoch 28, CIFAR-10 Batch 1:  Current loss is : 0.003702.    Validation accuracy is : 74.50%\n",
      "Epoch 28, CIFAR-10 Batch 2:  Current loss is : 0.009254.    Validation accuracy is : 73.34%\n",
      "Epoch 28, CIFAR-10 Batch 3:  Current loss is : 0.013874.    Validation accuracy is : 75.68%\n",
      "Epoch 28, CIFAR-10 Batch 4:  Current loss is : 0.015046.    Validation accuracy is : 74.76%\n",
      "Epoch 28, CIFAR-10 Batch 5:  Current loss is : 0.004425.    Validation accuracy is : 75.12%\n",
      "Epoch 29, CIFAR-10 Batch 1:  Current loss is : 0.004425.    Validation accuracy is : 74.14%\n",
      "Epoch 29, CIFAR-10 Batch 2:  Current loss is : 0.007075.    Validation accuracy is : 73.70%\n",
      "Epoch 29, CIFAR-10 Batch 3:  Current loss is : 0.001182.    Validation accuracy is : 75.92%\n",
      "Epoch 29, CIFAR-10 Batch 4:  Current loss is : 0.003141.    Validation accuracy is : 75.18%\n",
      "Epoch 29, CIFAR-10 Batch 5:  Current loss is : 0.002450.    Validation accuracy is : 75.56%\n",
      "Epoch 30, CIFAR-10 Batch 1:  Current loss is : 0.002301.    Validation accuracy is : 75.08%\n",
      "Epoch 30, CIFAR-10 Batch 2:  Current loss is : 0.003179.    Validation accuracy is : 72.36%\n",
      "Epoch 30, CIFAR-10 Batch 3:  Current loss is : 0.014012.    Validation accuracy is : 75.62%\n",
      "Epoch 30, CIFAR-10 Batch 4:  Current loss is : 0.002761.    Validation accuracy is : 74.50%\n",
      "Epoch 30, CIFAR-10 Batch 5:  Current loss is : 0.002660.    Validation accuracy is : 74.72%\n",
      "Epoch 31, CIFAR-10 Batch 1:  Current loss is : 0.002059.    Validation accuracy is : 74.72%\n",
      "Epoch 31, CIFAR-10 Batch 2:  Current loss is : 0.009750.    Validation accuracy is : 72.96%\n",
      "Epoch 31, CIFAR-10 Batch 3:  Current loss is : 0.001269.    Validation accuracy is : 75.50%\n",
      "Epoch 31, CIFAR-10 Batch 4:  Current loss is : 0.007463.    Validation accuracy is : 74.38%\n",
      "Epoch 31, CIFAR-10 Batch 5:  Current loss is : 0.008467.    Validation accuracy is : 75.70%\n",
      "Epoch 32, CIFAR-10 Batch 1:  Current loss is : 0.001271.    Validation accuracy is : 75.26%\n",
      "Epoch 32, CIFAR-10 Batch 2:  Current loss is : 0.002115.    Validation accuracy is : 74.38%\n",
      "Epoch 32, CIFAR-10 Batch 3:  Current loss is : 0.003398.    Validation accuracy is : 75.16%\n",
      "Epoch 32, CIFAR-10 Batch 4:  Current loss is : 0.001720.    Validation accuracy is : 73.96%\n",
      "Epoch 32, CIFAR-10 Batch 5:  Current loss is : 0.008155.    Validation accuracy is : 74.82%\n",
      "Epoch 33, CIFAR-10 Batch 1:  Current loss is : 0.000309.    Validation accuracy is : 74.88%\n",
      "Epoch 33, CIFAR-10 Batch 2:  Current loss is : 0.005214.    Validation accuracy is : 73.84%\n",
      "Epoch 33, CIFAR-10 Batch 3:  Current loss is : 0.001252.    Validation accuracy is : 74.74%\n",
      "Epoch 33, CIFAR-10 Batch 4:  Current loss is : 0.000754.    Validation accuracy is : 74.26%\n",
      "Epoch 33, CIFAR-10 Batch 5:  Current loss is : 0.001444.    Validation accuracy is : 75.00%\n",
      "Epoch 34, CIFAR-10 Batch 1:  Current loss is : 0.002395.    Validation accuracy is : 74.02%\n",
      "Epoch 34, CIFAR-10 Batch 2:  Current loss is : 0.011271.    Validation accuracy is : 74.50%\n",
      "Epoch 34, CIFAR-10 Batch 3:  Current loss is : 0.011010.    Validation accuracy is : 75.64%\n",
      "Epoch 34, CIFAR-10 Batch 4:  Current loss is : 0.002397.    Validation accuracy is : 74.64%\n",
      "Epoch 34, CIFAR-10 Batch 5:  Current loss is : 0.001737.    Validation accuracy is : 74.70%\n",
      "Epoch 35, CIFAR-10 Batch 1:  Current loss is : 0.000639.    Validation accuracy is : 75.10%\n",
      "Epoch 35, CIFAR-10 Batch 2:  Current loss is : 0.002501.    Validation accuracy is : 75.56%\n",
      "Epoch 35, CIFAR-10 Batch 3:  Current loss is : 0.000711.    Validation accuracy is : 74.60%\n",
      "Epoch 35, CIFAR-10 Batch 4:  Current loss is : 0.003666.    Validation accuracy is : 73.70%\n",
      "Epoch 35, CIFAR-10 Batch 5:  Current loss is : 0.001260.    Validation accuracy is : 74.32%\n",
      "Epoch 36, CIFAR-10 Batch 1:  Current loss is : 0.001125.    Validation accuracy is : 73.96%\n",
      "Epoch 36, CIFAR-10 Batch 2:  Current loss is : 0.000793.    Validation accuracy is : 75.02%\n",
      "Epoch 36, CIFAR-10 Batch 3:  Current loss is : 0.000209.    Validation accuracy is : 74.72%\n",
      "Epoch 36, CIFAR-10 Batch 4:  Current loss is : 0.000515.    Validation accuracy is : 74.92%\n",
      "Epoch 36, CIFAR-10 Batch 5:  Current loss is : 0.003298.    Validation accuracy is : 73.54%\n",
      "Epoch 37, CIFAR-10 Batch 1:  Current loss is : 0.000754.    Validation accuracy is : 73.96%\n",
      "Epoch 37, CIFAR-10 Batch 2:  Current loss is : 0.001256.    Validation accuracy is : 74.66%\n",
      "Epoch 37, CIFAR-10 Batch 3:  Current loss is : 0.001059.    Validation accuracy is : 75.32%\n",
      "Epoch 37, CIFAR-10 Batch 4:  Current loss is : 0.000809.    Validation accuracy is : 74.26%\n",
      "Epoch 37, CIFAR-10 Batch 5:  Current loss is : 0.001254.    Validation accuracy is : 74.66%\n",
      "Epoch 38, CIFAR-10 Batch 1:  Current loss is : 0.003955.    Validation accuracy is : 74.86%\n",
      "Epoch 38, CIFAR-10 Batch 2:  Current loss is : 0.000882.    Validation accuracy is : 74.98%\n",
      "Epoch 38, CIFAR-10 Batch 3:  Current loss is : 0.001471.    Validation accuracy is : 75.42%\n",
      "Epoch 38, CIFAR-10 Batch 4:  Current loss is : 0.006446.    Validation accuracy is : 73.76%\n",
      "Epoch 38, CIFAR-10 Batch 5:  Current loss is : 0.000951.    Validation accuracy is : 74.44%\n",
      "Epoch 39, CIFAR-10 Batch 1:  Current loss is : 0.016351.    Validation accuracy is : 73.82%\n",
      "Epoch 39, CIFAR-10 Batch 2:  Current loss is : 0.000592.    Validation accuracy is : 74.86%\n",
      "Epoch 39, CIFAR-10 Batch 3:  Current loss is : 0.000184.    Validation accuracy is : 75.06%\n",
      "Epoch 39, CIFAR-10 Batch 4:  Current loss is : 0.000993.    Validation accuracy is : 73.20%\n",
      "Epoch 39, CIFAR-10 Batch 5:  Current loss is : 0.000995.    Validation accuracy is : 73.28%\n",
      "Epoch 40, CIFAR-10 Batch 1:  Current loss is : 0.000821.    Validation accuracy is : 74.76%\n",
      "Epoch 40, CIFAR-10 Batch 2:  Current loss is : 0.001228.    Validation accuracy is : 74.88%\n",
      "Epoch 40, CIFAR-10 Batch 3:  Current loss is : 0.000141.    Validation accuracy is : 75.26%\n",
      "Epoch 40, CIFAR-10 Batch 4:  Current loss is : 0.001588.    Validation accuracy is : 74.06%\n",
      "Epoch 40, CIFAR-10 Batch 5:  Current loss is : 0.000865.    Validation accuracy is : 74.92%\n",
      "Epoch 41, CIFAR-10 Batch 1:  Current loss is : 0.002227.    Validation accuracy is : 74.08%\n",
      "Epoch 41, CIFAR-10 Batch 2:  Current loss is : 0.001694.    Validation accuracy is : 74.46%\n",
      "Epoch 41, CIFAR-10 Batch 3:  Current loss is : 0.001796.    Validation accuracy is : 74.62%\n",
      "Epoch 41, CIFAR-10 Batch 4:  Current loss is : 0.001017.    Validation accuracy is : 73.18%\n",
      "Epoch 41, CIFAR-10 Batch 5:  Current loss is : 0.000562.    Validation accuracy is : 75.00%\n",
      "Epoch 42, CIFAR-10 Batch 1:  Current loss is : 0.000645.    Validation accuracy is : 74.30%\n",
      "Epoch 42, CIFAR-10 Batch 2:  Current loss is : 0.000322.    Validation accuracy is : 75.44%\n",
      "Epoch 42, CIFAR-10 Batch 3:  Current loss is : 0.003993.    Validation accuracy is : 75.14%\n",
      "Epoch 42, CIFAR-10 Batch 4:  Current loss is : 0.000295.    Validation accuracy is : 74.30%\n",
      "Epoch 42, CIFAR-10 Batch 5:  Current loss is : 0.000415.    Validation accuracy is : 75.56%\n",
      "Epoch 43, CIFAR-10 Batch 1:  Current loss is : 0.000829.    Validation accuracy is : 74.50%\n",
      "Epoch 43, CIFAR-10 Batch 2:  Current loss is : 0.000691.    Validation accuracy is : 75.26%\n",
      "Epoch 43, CIFAR-10 Batch 3:  Current loss is : 0.000277.    Validation accuracy is : 75.42%\n",
      "Epoch 43, CIFAR-10 Batch 4:  Current loss is : 0.001143.    Validation accuracy is : 75.42%\n",
      "Epoch 43, CIFAR-10 Batch 5:  Current loss is : 0.000588.    Validation accuracy is : 74.28%\n",
      "Epoch 44, CIFAR-10 Batch 1:  Current loss is : 0.000832.    Validation accuracy is : 74.16%\n",
      "Epoch 44, CIFAR-10 Batch 2:  Current loss is : 0.000448.    Validation accuracy is : 74.96%\n",
      "Epoch 44, CIFAR-10 Batch 3:  Current loss is : 0.000803.    Validation accuracy is : 75.62%\n",
      "Epoch 44, CIFAR-10 Batch 4:  Current loss is : 0.003080.    Validation accuracy is : 74.08%\n",
      "Epoch 44, CIFAR-10 Batch 5:  Current loss is : 0.000413.    Validation accuracy is : 74.62%\n",
      "Epoch 45, CIFAR-10 Batch 1:  Current loss is : 0.000384.    Validation accuracy is : 73.98%\n",
      "Epoch 45, CIFAR-10 Batch 2:  Current loss is : 0.000917.    Validation accuracy is : 74.80%\n",
      "Epoch 45, CIFAR-10 Batch 3:  Current loss is : 0.001381.    Validation accuracy is : 74.88%\n",
      "Epoch 45, CIFAR-10 Batch 4:  Current loss is : 0.001241.    Validation accuracy is : 74.10%\n",
      "Epoch 45, CIFAR-10 Batch 5:  Current loss is : 0.000606.    Validation accuracy is : 73.94%\n",
      "Epoch 46, CIFAR-10 Batch 1:  Current loss is : 0.000755.    Validation accuracy is : 74.08%\n",
      "Epoch 46, CIFAR-10 Batch 2:  Current loss is : 0.000506.    Validation accuracy is : 74.76%\n",
      "Epoch 46, CIFAR-10 Batch 3:  Current loss is : 0.001019.    Validation accuracy is : 75.22%\n",
      "Epoch 46, CIFAR-10 Batch 4:  Current loss is : 0.000203.    Validation accuracy is : 74.80%\n",
      "Epoch 46, CIFAR-10 Batch 5:  Current loss is : 0.000949.    Validation accuracy is : 73.90%\n",
      "Epoch 47, CIFAR-10 Batch 1:  Current loss is : 0.000642.    Validation accuracy is : 74.68%\n",
      "Epoch 47, CIFAR-10 Batch 2:  Current loss is : 0.000176.    Validation accuracy is : 74.92%\n",
      "Epoch 47, CIFAR-10 Batch 3:  Current loss is : 0.000622.    Validation accuracy is : 75.22%\n",
      "Epoch 47, CIFAR-10 Batch 4:  Current loss is : 0.000084.    Validation accuracy is : 74.86%\n",
      "Epoch 47, CIFAR-10 Batch 5:  Current loss is : 0.000356.    Validation accuracy is : 74.40%\n",
      "Epoch 48, CIFAR-10 Batch 1:  Current loss is : 0.000854.    Validation accuracy is : 73.60%\n",
      "Epoch 48, CIFAR-10 Batch 2:  Current loss is : 0.000801.    Validation accuracy is : 74.90%\n",
      "Epoch 48, CIFAR-10 Batch 3:  Current loss is : 0.000086.    Validation accuracy is : 75.56%\n",
      "Epoch 48, CIFAR-10 Batch 4:  Current loss is : 0.001273.    Validation accuracy is : 74.36%\n",
      "Epoch 48, CIFAR-10 Batch 5:  Current loss is : 0.001019.    Validation accuracy is : 74.72%\n",
      "Epoch 49, CIFAR-10 Batch 1:  Current loss is : 0.001052.    Validation accuracy is : 74.26%\n",
      "Epoch 49, CIFAR-10 Batch 2:  Current loss is : 0.000166.    Validation accuracy is : 74.52%\n",
      "Epoch 49, CIFAR-10 Batch 3:  Current loss is : 0.001599.    Validation accuracy is : 74.92%\n",
      "Epoch 49, CIFAR-10 Batch 4:  Current loss is : 0.000658.    Validation accuracy is : 75.16%\n",
      "Epoch 49, CIFAR-10 Batch 5:  Current loss is : 0.000575.    Validation accuracy is : 75.24%\n",
      "Epoch 50, CIFAR-10 Batch 1:  Current loss is : 0.000605.    Validation accuracy is : 74.10%\n",
      "Epoch 50, CIFAR-10 Batch 2:  Current loss is : 0.002257.    Validation accuracy is : 75.86%\n",
      "Epoch 50, CIFAR-10 Batch 3:  Current loss is : 0.000750.    Validation accuracy is : 75.46%\n",
      "Epoch 50, CIFAR-10 Batch 4:  Current loss is : 0.000226.    Validation accuracy is : 75.40%\n",
      "Epoch 50, CIFAR-10 Batch 5:  Current loss is : 0.000324.    Validation accuracy is : 74.84%\n"
     ]
    }
   ],
   "source": [
    "\"\"\"\n",
    "DON'T MODIFY ANYTHING IN THIS CELL\n",
    "\"\"\"\n",
    "save_model_path = './image_classification'\n",
    "\n",
    "print('Training...')\n",
    "with tf.Session() as sess:\n",
    "    # Initializing the variables\n",
    "    sess.run(tf.global_variables_initializer())\n",
    "    \n",
    "    # Training cycle\n",
    "    for epoch in range(epochs):\n",
    "        # Loop over all batches\n",
    "        n_batches = 5\n",
    "        for batch_i in range(1, n_batches + 1):\n",
    "            for batch_features, batch_labels in helper.load_preprocess_training_batch(batch_i, batch_size):\n",
    "                train_neural_network(sess, optimizer, keep_probability, batch_features, batch_labels)\n",
    "            print('Epoch {:>2}, CIFAR-10 Batch {}:  '.format(epoch + 1, batch_i), end='')\n",
    "            print_stats(sess, batch_features, batch_labels, cost, accuracy)\n",
    "            \n",
    "    # Save Model\n",
    "    saver = tf.train.Saver()\n",
    "    save_path = saver.save(sess, save_model_path)"
   ]
  },
  {
   "cell_type": "markdown",
   "metadata": {
    "deletable": true,
    "editable": true
   },
   "source": [
    "# Checkpoint\n",
    "The model has been saved to disk.\n",
    "## Test Model\n",
    "Test your model against the test dataset.  This will be your final accuracy. You should have an accuracy greater than 50%. If you don't, keep tweaking the model architecture and parameters."
   ]
  },
  {
   "cell_type": "code",
   "execution_count": 20,
   "metadata": {
    "collapsed": false,
    "deletable": true,
    "editable": true
   },
   "outputs": [
    {
     "name": "stdout",
     "output_type": "stream",
     "text": [
      "Testing Accuracy: 0.7435719936708861\n",
      "\n"
     ]
    },
    {
     "data": {
      "image/png": "[encoded data removed]",
      "text/plain": [
       "<matplotlib.figure.Figure at 0x7f4bf4969780>"
      ]
     },
     "metadata": {
      "image/png": {
       "height": 319,
       "width": 355
      }
     },
     "output_type": "display_data"
    }
   ],
   "source": [
    "\"\"\"\n",
    "DON'T MODIFY ANYTHING IN THIS CELL\n",
    "\"\"\"\n",
    "%matplotlib inline\n",
    "%config InlineBackend.figure_format = 'retina'\n",
    "\n",
    "import tensorflow as tf\n",
    "import pickle\n",
    "import helper\n",
    "import random\n",
    "\n",
    "# Set batch size if not already set\n",
    "try:\n",
    "    if batch_size:\n",
    "        pass\n",
    "except NameError:\n",
    "    batch_size = 64\n",
    "\n",
    "save_model_path = './image_classification'\n",
    "n_samples = 4\n",
    "top_n_predictions = 3\n",
    "\n",
    "def test_model():\n",
    "    \"\"\"\n",
    "    Test the saved model against the test dataset\n",
    "    \"\"\"\n",
    "\n",
    "    test_features, test_labels = pickle.load(open('preprocess_training.p', mode='rb'))\n",
    "    loaded_graph = tf.Graph()\n",
    "\n",
    "    with tf.Session(graph=loaded_graph) as sess:\n",
    "        # Load model\n",
    "        loader = tf.train.import_meta_graph(save_model_path + '.meta')\n",
    "        loader.restore(sess, save_model_path)\n",
    "\n",
    "        # Get Tensors from loaded model\n",
    "        loaded_x = loaded_graph.get_tensor_by_name('x:0')\n",
    "        loaded_y = loaded_graph.get_tensor_by_name('y:0')\n",
    "        loaded_keep_prob = loaded_graph.get_tensor_by_name('keep_prob:0')\n",
    "        loaded_logits = loaded_graph.get_tensor_by_name('logits:0')\n",
    "        loaded_acc = loaded_graph.get_tensor_by_name('accuracy:0')\n",
    "        \n",
    "        # Get accuracy in batches for memory limitations\n",
    "        test_batch_acc_total = 0\n",
    "        test_batch_count = 0\n",
    "        \n",
    "        for train_feature_batch, train_label_batch in helper.batch_features_labels(test_features, test_labels, batch_size):\n",
    "            test_batch_acc_total += sess.run(\n",
    "                loaded_acc,\n",
    "                feed_dict={loaded_x: train_feature_batch, loaded_y: train_label_batch, loaded_keep_prob: 1.0})\n",
    "            test_batch_count += 1\n",
    "\n",
    "        print('Testing Accuracy: {}\\n'.format(test_batch_acc_total/test_batch_count))\n",
    "\n",
    "        # Print Random Samples\n",
    "        random_test_features, random_test_labels = tuple(zip(*random.sample(list(zip(test_features, test_labels)), n_samples)))\n",
    "        random_test_predictions = sess.run(\n",
    "            tf.nn.top_k(tf.nn.softmax(loaded_logits), top_n_predictions),\n",
    "            feed_dict={loaded_x: random_test_features, loaded_y: random_test_labels, loaded_keep_prob: 1.0})\n",
    "        helper.display_image_predictions(random_test_features, random_test_labels, random_test_predictions)\n",
    "\n",
    "\n",
    "test_model()"
   ]
  },
  {
   "cell_type": "markdown",
   "metadata": {
    "deletable": true,
    "editable": true
   },
   "source": [
    "I am sorry that I didn't test this model this time cuz I haven't got my aws set up. I only trained it on the mini-batch, and the validation accuracy looks good. I hope that I could submit another version of this ipynb several days later with the model trained on AWS. If this is OK, please tell me what to do throught my e-mail: ckmemeda1996@gmail.com\n",
    "\n",
    "Thanks"
   ]
  },
  {
   "cell_type": "markdown",
   "metadata": {
    "deletable": true,
    "editable": true
   },
   "source": [
    "## Why 50-80% Accuracy?\n",
    "You might be wondering why you can't get an accuracy any higher. First things first, 50% isn't bad for a simple CNN.  Pure guessing would get you 10% accuracy. However, you might notice people are getting scores [well above 80%](http://rodrigob.github.io/are_we_there_yet/build/classification_datasets_results.html#43494641522d3130).  That's because we haven't taught you all there is to know about neural networks. We still need to cover a few more techniques.\n",
    "## Submitting This Project\n",
    "When submitting this project, make sure to run all the cells before saving the notebook.  Save the notebook file as \"dlnd_image_classification.ipynb\" and save it as a HTML file under \"File\" -> \"Download as\".  Include the \"helper.py\" and \"problem_unittests.py\" files in your submission."
   ]
  }
 ],
 "metadata": {
  "kernelspec": {
   "display_name": "Python 3",
   "language": "python",
   "name": "python3"
  },
  "language_info": {
   "codemirror_mode": {
    "name": "ipython",
    "version": 3
   },
   "file_extension": ".py",
   "mimetype": "text/x-python",
   "name": "python",
   "nbconvert_exporter": "python",
   "pygments_lexer": "ipython3",
   "version": "3.6.1"
  }
 },
 "nbformat": 4,
 "nbformat_minor": 0
}
